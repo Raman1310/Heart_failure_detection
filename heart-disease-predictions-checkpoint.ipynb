{
 "cells": [
  {
   "cell_type": "code",
   "execution_count": 1,
   "metadata": {
    "_cell_guid": "b1076dfc-b9ad-4769-8c92-a6c4dae69d19",
    "_uuid": "8f2839f25d086af736a60e9eeb907d3b93b6e0e5",
    "execution": {
     "iopub.execute_input": "2021-07-07T07:20:40.659899Z",
     "iopub.status.busy": "2021-07-07T07:20:40.659085Z",
     "iopub.status.idle": "2021-07-07T07:20:40.671653Z",
     "shell.execute_reply": "2021-07-07T07:20:40.670774Z",
     "shell.execute_reply.started": "2021-07-07T07:20:40.659844Z"
    }
   },
   "outputs": [
    {
     "ename": "ModuleNotFoundError",
     "evalue": "No module named 'catboost'",
     "output_type": "error",
     "traceback": [
      "\u001b[1;31m---------------------------------------------------------------------------\u001b[0m",
      "\u001b[1;31mModuleNotFoundError\u001b[0m                       Traceback (most recent call last)",
      "\u001b[1;32m<ipython-input-1-ee8dcbc96eae>\u001b[0m in \u001b[0;36m<module>\u001b[1;34m\u001b[0m\n\u001b[0;32m     22\u001b[0m \u001b[1;32mfrom\u001b[0m \u001b[0msklearn\u001b[0m\u001b[1;33m.\u001b[0m\u001b[0mnaive_bayes\u001b[0m \u001b[1;32mimport\u001b[0m \u001b[0mGaussianNB\u001b[0m\u001b[1;33m\u001b[0m\u001b[1;33m\u001b[0m\u001b[0m\n\u001b[0;32m     23\u001b[0m \u001b[1;32mfrom\u001b[0m \u001b[0msklearn\u001b[0m\u001b[1;33m.\u001b[0m\u001b[0mlinear_model\u001b[0m \u001b[1;32mimport\u001b[0m \u001b[0mSGDClassifier\u001b[0m\u001b[1;33m\u001b[0m\u001b[1;33m\u001b[0m\u001b[0m\n\u001b[1;32m---> 24\u001b[1;33m \u001b[1;32mfrom\u001b[0m \u001b[0mcatboost\u001b[0m \u001b[1;32mimport\u001b[0m \u001b[0mCatBoostClassifier\u001b[0m\u001b[1;33m\u001b[0m\u001b[1;33m\u001b[0m\u001b[0m\n\u001b[0m\u001b[0;32m     25\u001b[0m \u001b[1;32mfrom\u001b[0m \u001b[0mxgboost\u001b[0m \u001b[1;32mimport\u001b[0m \u001b[0mXGBClassifier\u001b[0m\u001b[1;33m\u001b[0m\u001b[1;33m\u001b[0m\u001b[0m\n\u001b[0;32m     26\u001b[0m \u001b[1;32mfrom\u001b[0m \u001b[0mlightgbm\u001b[0m \u001b[1;32mimport\u001b[0m \u001b[0mLGBMClassifier\u001b[0m\u001b[1;33m\u001b[0m\u001b[1;33m\u001b[0m\u001b[0m\n",
      "\u001b[1;31mModuleNotFoundError\u001b[0m: No module named 'catboost'"
     ]
    }
   ],
   "source": [
    "# Import library\n",
    "import numpy as np\n",
    "import pandas as pd\n",
    "import matplotlib.pyplot as plt\n",
    "import seaborn as sns\n",
    "# ignore warnings\n",
    "import warnings\n",
    "warnings.filterwarnings('ignore')\n",
    "\n",
    "# Model selection\n",
    "from sklearn.model_selection import train_test_split\n",
    "from sklearn.model_selection import cross_val_score\n",
    "from sklearn.model_selection import RepeatedStratifiedKFold\n",
    "from sklearn.model_selection import RandomizedSearchCV\n",
    "\n",
    "# Models\n",
    "from sklearn.ensemble import RandomForestClassifier\n",
    "from sklearn.ensemble import GradientBoostingClassifier\n",
    "from sklearn.tree import DecisionTreeClassifier\n",
    "from sklearn.neighbors import KNeighborsClassifier\n",
    "from sklearn.linear_model import LogisticRegression\n",
    "from sklearn.naive_bayes import GaussianNB\n",
    "from sklearn.linear_model import SGDClassifier\n",
    "from catboost import CatBoostClassifier\n",
    "from xgboost import XGBClassifier\n",
    "from lightgbm import LGBMClassifier\n",
    "\n",
    "# Metrics\n",
    "from sklearn.metrics import accuracy_score, precision_score, recall_score, f1_score\n",
    "from sklearn.metrics import confusion_matrix, classification_report\n"
   ]
  },
  {
   "cell_type": "code",
   "execution_count": 2,
   "metadata": {
    "execution": {
     "iopub.execute_input": "2021-07-07T07:20:40.674195Z",
     "iopub.status.busy": "2021-07-07T07:20:40.673573Z",
     "iopub.status.idle": "2021-07-07T07:20:40.715058Z",
     "shell.execute_reply": "2021-07-07T07:20:40.714329Z",
     "shell.execute_reply.started": "2021-07-07T07:20:40.674148Z"
    }
   },
   "outputs": [
    {
     "data": {
      "text/html": [
       "<div>\n",
       "<style scoped>\n",
       "    .dataframe tbody tr th:only-of-type {\n",
       "        vertical-align: middle;\n",
       "    }\n",
       "\n",
       "    .dataframe tbody tr th {\n",
       "        vertical-align: top;\n",
       "    }\n",
       "\n",
       "    .dataframe thead th {\n",
       "        text-align: right;\n",
       "    }\n",
       "</style>\n",
       "<table border=\"1\" class=\"dataframe\">\n",
       "  <thead>\n",
       "    <tr style=\"text-align: right;\">\n",
       "      <th></th>\n",
       "      <th>age</th>\n",
       "      <th>sex</th>\n",
       "      <th>cp</th>\n",
       "      <th>trtbps</th>\n",
       "      <th>chol</th>\n",
       "      <th>fbs</th>\n",
       "      <th>restecg</th>\n",
       "      <th>thalachh</th>\n",
       "      <th>exng</th>\n",
       "      <th>oldpeak</th>\n",
       "      <th>slp</th>\n",
       "      <th>caa</th>\n",
       "      <th>thall</th>\n",
       "      <th>output</th>\n",
       "    </tr>\n",
       "  </thead>\n",
       "  <tbody>\n",
       "    <tr>\n",
       "      <th>0</th>\n",
       "      <td>63</td>\n",
       "      <td>1</td>\n",
       "      <td>3</td>\n",
       "      <td>145</td>\n",
       "      <td>233</td>\n",
       "      <td>1</td>\n",
       "      <td>0</td>\n",
       "      <td>150</td>\n",
       "      <td>0</td>\n",
       "      <td>2.3</td>\n",
       "      <td>0</td>\n",
       "      <td>0</td>\n",
       "      <td>1</td>\n",
       "      <td>1</td>\n",
       "    </tr>\n",
       "    <tr>\n",
       "      <th>1</th>\n",
       "      <td>37</td>\n",
       "      <td>1</td>\n",
       "      <td>2</td>\n",
       "      <td>130</td>\n",
       "      <td>250</td>\n",
       "      <td>0</td>\n",
       "      <td>1</td>\n",
       "      <td>187</td>\n",
       "      <td>0</td>\n",
       "      <td>3.5</td>\n",
       "      <td>0</td>\n",
       "      <td>0</td>\n",
       "      <td>2</td>\n",
       "      <td>1</td>\n",
       "    </tr>\n",
       "    <tr>\n",
       "      <th>2</th>\n",
       "      <td>41</td>\n",
       "      <td>0</td>\n",
       "      <td>1</td>\n",
       "      <td>130</td>\n",
       "      <td>204</td>\n",
       "      <td>0</td>\n",
       "      <td>0</td>\n",
       "      <td>172</td>\n",
       "      <td>0</td>\n",
       "      <td>1.4</td>\n",
       "      <td>2</td>\n",
       "      <td>0</td>\n",
       "      <td>2</td>\n",
       "      <td>1</td>\n",
       "    </tr>\n",
       "    <tr>\n",
       "      <th>3</th>\n",
       "      <td>56</td>\n",
       "      <td>1</td>\n",
       "      <td>1</td>\n",
       "      <td>120</td>\n",
       "      <td>236</td>\n",
       "      <td>0</td>\n",
       "      <td>1</td>\n",
       "      <td>178</td>\n",
       "      <td>0</td>\n",
       "      <td>0.8</td>\n",
       "      <td>2</td>\n",
       "      <td>0</td>\n",
       "      <td>2</td>\n",
       "      <td>1</td>\n",
       "    </tr>\n",
       "    <tr>\n",
       "      <th>4</th>\n",
       "      <td>57</td>\n",
       "      <td>0</td>\n",
       "      <td>0</td>\n",
       "      <td>120</td>\n",
       "      <td>354</td>\n",
       "      <td>0</td>\n",
       "      <td>1</td>\n",
       "      <td>163</td>\n",
       "      <td>1</td>\n",
       "      <td>0.6</td>\n",
       "      <td>2</td>\n",
       "      <td>0</td>\n",
       "      <td>2</td>\n",
       "      <td>1</td>\n",
       "    </tr>\n",
       "  </tbody>\n",
       "</table>\n",
       "</div>"
      ],
      "text/plain": [
       "   age  sex  cp  trtbps  chol  fbs  restecg  thalachh  exng  oldpeak  slp  \\\n",
       "0   63    1   3     145   233    1        0       150     0      2.3    0   \n",
       "1   37    1   2     130   250    0        1       187     0      3.5    0   \n",
       "2   41    0   1     130   204    0        0       172     0      1.4    2   \n",
       "3   56    1   1     120   236    0        1       178     0      0.8    2   \n",
       "4   57    0   0     120   354    0        1       163     1      0.6    2   \n",
       "\n",
       "   caa  thall  output  \n",
       "0    0      1       1  \n",
       "1    0      2       1  \n",
       "2    0      2       1  \n",
       "3    0      2       1  \n",
       "4    0      2       1  "
      ]
     },
     "execution_count": 2,
     "metadata": {},
     "output_type": "execute_result"
    }
   ],
   "source": [
    "# Import the dataset\n",
    "df = pd.read_csv(\"heart.csv\")\n",
    "df.head()"
   ]
  },
  {
   "cell_type": "markdown",
   "metadata": {},
   "source": [
    "## Data Description"
   ]
  },
  {
   "cell_type": "markdown",
   "metadata": {},
   "source": [
    "* **Age** : Age of the patient\n",
    "\n",
    "* **Sex** : Sex of the patient\n",
    "\n",
    "* **exang**: exercise induced angina (1 = yes; 0 = no)\n",
    "\n",
    "* **ca** : number of major vessels (0-3)\n",
    "\n",
    "* **cp** : Chest Pain type chest pain type\n",
    "\n",
    "    * Value 1: typical angina\n",
    "    * Value 2: atypical angina\n",
    "    * Value 3: non-anginal pain\n",
    "    * Value 4: asymptomatic\n",
    "* **trtbps** : resting blood pressure (in mm Hg)\n",
    "\n",
    "* **chol** : cholestoral in mg/dl fetched via BMI sensor\n",
    "\n",
    "* **fbs** : (fasting blood sugar > 120 mg/dl) (1 = true; 0 = false)\n",
    " \n",
    "* **rest_ecg** : resting electrocardiographic results\n",
    "\n",
    "    *     Value 0: normal\n",
    "    *     Value 1: having ST-T wave abnormality (T wave inversions and/or ST elevation or depression of > 0.05 mV)\n",
    "    *     Value 2: showing probable or definite left ventricular hypertrophy by Estes' criteria\n",
    "* **thalach** : maximum heart rate achieved\n",
    "\n",
    "* **output** : 0= less chance of heart attack 1= more chance of heart attack"
   ]
  },
  {
   "cell_type": "code",
   "execution_count": 3,
   "metadata": {
    "execution": {
     "iopub.execute_input": "2021-07-07T07:20:40.717021Z",
     "iopub.status.busy": "2021-07-07T07:20:40.716553Z",
     "iopub.status.idle": "2021-07-07T07:20:40.725506Z",
     "shell.execute_reply": "2021-07-07T07:20:40.724481Z",
     "shell.execute_reply.started": "2021-07-07T07:20:40.716989Z"
    }
   },
   "outputs": [
    {
     "data": {
      "text/plain": [
       "age         0\n",
       "sex         0\n",
       "cp          0\n",
       "trtbps      0\n",
       "chol        0\n",
       "fbs         0\n",
       "restecg     0\n",
       "thalachh    0\n",
       "exng        0\n",
       "oldpeak     0\n",
       "slp         0\n",
       "caa         0\n",
       "thall       0\n",
       "output      0\n",
       "dtype: int64"
      ]
     },
     "execution_count": 3,
     "metadata": {},
     "output_type": "execute_result"
    }
   ],
   "source": [
    "# Check any null values\n",
    "df.isna().sum()"
   ]
  },
  {
   "cell_type": "code",
   "execution_count": 4,
   "metadata": {
    "execution": {
     "iopub.execute_input": "2021-07-07T07:20:40.727817Z",
     "iopub.status.busy": "2021-07-07T07:20:40.727479Z",
     "iopub.status.idle": "2021-07-07T07:20:40.743939Z",
     "shell.execute_reply": "2021-07-07T07:20:40.743011Z",
     "shell.execute_reply.started": "2021-07-07T07:20:40.727786Z"
    }
   },
   "outputs": [
    {
     "data": {
      "text/plain": [
       "1    165\n",
       "0    138\n",
       "Name: output, dtype: int64"
      ]
     },
     "execution_count": 4,
     "metadata": {},
     "output_type": "execute_result"
    }
   ],
   "source": [
    "# Check the value counts for output\n",
    "df.output.value_counts()"
   ]
  },
  {
   "cell_type": "code",
   "execution_count": 5,
   "metadata": {
    "execution": {
     "iopub.execute_input": "2021-07-07T07:20:40.745921Z",
     "iopub.status.busy": "2021-07-07T07:20:40.745393Z",
     "iopub.status.idle": "2021-07-07T07:20:41.001628Z",
     "shell.execute_reply": "2021-07-07T07:20:41.000355Z",
     "shell.execute_reply.started": "2021-07-07T07:20:40.745885Z"
    }
   },
   "outputs": [
    {
     "data": {
      "image/png": "[encoded data removed]",
      "text/plain": [
       "<Figure size 1440x288 with 1 Axes>"
      ]
     },
     "metadata": {},
     "output_type": "display_data"
    }
   ],
   "source": [
    "# visualize it\n",
    "with plt.xkcd():\n",
    "    plt.figure(figsize=(20,4), facecolor='#f1f33f')\n",
    "    df.output.value_counts().plot(kind='barh', color=['salmon', 'lightgreen'])\n",
    "    plt.title(\"Output Value Counts\")\n",
    "    plt.xlabel(\"Count\")\n",
    "    plt.ylabel(\"Heart Attack\")\n",
    "    \n",
    "    num = df.output.value_counts()\n",
    "    \n",
    "    for index, count in enumerate(num):\n",
    "           plt.text(count, index,\n",
    "                     str(count))\n",
    "    plt.title(\"Heart Attack\")"
   ]
  },
  {
   "cell_type": "code",
   "execution_count": 6,
   "metadata": {
    "execution": {
     "iopub.execute_input": "2021-07-07T07:20:41.004042Z",
     "iopub.status.busy": "2021-07-07T07:20:41.003603Z",
     "iopub.status.idle": "2021-07-07T07:20:41.014614Z",
     "shell.execute_reply": "2021-07-07T07:20:41.013131Z",
     "shell.execute_reply.started": "2021-07-07T07:20:41.003995Z"
    }
   },
   "outputs": [
    {
     "data": {
      "text/plain": [
       "1    207\n",
       "0     96\n",
       "Name: sex, dtype: int64"
      ]
     },
     "execution_count": 6,
     "metadata": {},
     "output_type": "execute_result"
    }
   ],
   "source": [
    "# Gender\n",
    "df['sex'].value_counts()"
   ]
  },
  {
   "cell_type": "code",
   "execution_count": 7,
   "metadata": {
    "execution": {
     "iopub.execute_input": "2021-07-07T07:20:41.017284Z",
     "iopub.status.busy": "2021-07-07T07:20:41.016801Z",
     "iopub.status.idle": "2021-07-07T07:20:41.2499Z",
     "shell.execute_reply": "2021-07-07T07:20:41.248439Z",
     "shell.execute_reply.started": "2021-07-07T07:20:41.017236Z"
    }
   },
   "outputs": [
    {
     "data": {
      "image/png": "[encoded data removed]",
      "text/plain": [
       "<Figure size 1440x288 with 1 Axes>"
      ]
     },
     "metadata": {},
     "output_type": "display_data"
    }
   ],
   "source": [
    "# visualize it\n",
    "with plt.xkcd():\n",
    "    plt.figure(figsize=(20,4), facecolor='#ccccff')\n",
    "    df.sex.value_counts().plot(kind='barh', color=['#ffa180', '#ffb865'])\n",
    "    plt.xlabel(\"Count\")\n",
    "    plt.ylabel(\"Sex\")\n",
    "    \n",
    "    num = df.sex.value_counts()\n",
    "    \n",
    "    for index, count in enumerate(num):\n",
    "           plt.text(count, index,\n",
    "                     str(count))\n",
    "    plt.title(\"Heart Attack\")"
   ]
  },
  {
   "cell_type": "code",
   "execution_count": 8,
   "metadata": {
    "execution": {
     "iopub.execute_input": "2021-07-07T07:20:41.253155Z",
     "iopub.status.busy": "2021-07-07T07:20:41.252828Z",
     "iopub.status.idle": "2021-07-07T07:20:41.488672Z",
     "shell.execute_reply": "2021-07-07T07:20:41.487592Z",
     "shell.execute_reply.started": "2021-07-07T07:20:41.253127Z"
    }
   },
   "outputs": [
    {
     "data": {
      "image/png": "[encoded data removed]",
      "text/plain": [
       "<Figure size 432x288 with 1 Axes>"
      ]
     },
     "metadata": {},
     "output_type": "display_data"
    }
   ],
   "source": [
    "with plt.xkcd():\n",
    "    sns.distplot(df['sex'])"
   ]
  },
  {
   "cell_type": "code",
   "execution_count": 9,
   "metadata": {
    "execution": {
     "iopub.execute_input": "2021-07-07T07:20:41.492023Z",
     "iopub.status.busy": "2021-07-07T07:20:41.491495Z",
     "iopub.status.idle": "2021-07-07T07:20:41.912707Z",
     "shell.execute_reply": "2021-07-07T07:20:41.91151Z",
     "shell.execute_reply.started": "2021-07-07T07:20:41.491974Z"
    }
   },
   "outputs": [
    {
     "ename": "AttributeError",
     "evalue": "module 'seaborn' has no attribute 'displot'",
     "output_type": "error",
     "traceback": [
      "\u001b[1;31m---------------------------------------------------------------------------\u001b[0m",
      "\u001b[1;31mAttributeError\u001b[0m                            Traceback (most recent call last)",
      "\u001b[1;32m<ipython-input-9-7e0598fa43e5>\u001b[0m in \u001b[0;36m<module>\u001b[1;34m\u001b[0m\n\u001b[0;32m      1\u001b[0m \u001b[0mplt\u001b[0m\u001b[1;33m.\u001b[0m\u001b[0mfigure\u001b[0m\u001b[1;33m(\u001b[0m\u001b[0mfigsize\u001b[0m\u001b[1;33m=\u001b[0m\u001b[1;33m(\u001b[0m\u001b[1;36m10\u001b[0m\u001b[1;33m,\u001b[0m\u001b[1;36m5\u001b[0m\u001b[1;33m)\u001b[0m\u001b[1;33m)\u001b[0m\u001b[1;33m\u001b[0m\u001b[1;33m\u001b[0m\u001b[0m\n\u001b[1;32m----> 2\u001b[1;33m \u001b[0msns\u001b[0m\u001b[1;33m.\u001b[0m\u001b[0mdisplot\u001b[0m\u001b[1;33m(\u001b[0m\u001b[0mx\u001b[0m\u001b[1;33m=\u001b[0m\u001b[1;34m'age'\u001b[0m\u001b[1;33m,\u001b[0m \u001b[0mhue\u001b[0m\u001b[1;33m=\u001b[0m\u001b[1;34m'sex'\u001b[0m\u001b[1;33m,\u001b[0m \u001b[0mdata\u001b[0m\u001b[1;33m=\u001b[0m\u001b[0mdf\u001b[0m\u001b[1;33m,\u001b[0m \u001b[0malpha\u001b[0m\u001b[1;33m=\u001b[0m\u001b[1;36m0.6\u001b[0m\u001b[1;33m)\u001b[0m\u001b[1;33m\u001b[0m\u001b[1;33m\u001b[0m\u001b[0m\n\u001b[0m\u001b[0;32m      3\u001b[0m \u001b[0mplt\u001b[0m\u001b[1;33m.\u001b[0m\u001b[0mtitle\u001b[0m\u001b[1;33m(\u001b[0m\u001b[1;34m\"Gender\"\u001b[0m\u001b[1;33m)\u001b[0m\u001b[1;33m\u001b[0m\u001b[1;33m\u001b[0m\u001b[0m\n\u001b[0;32m      4\u001b[0m \u001b[0mplt\u001b[0m\u001b[1;33m.\u001b[0m\u001b[0mshow\u001b[0m\u001b[1;33m(\u001b[0m\u001b[1;33m)\u001b[0m\u001b[1;33m\u001b[0m\u001b[1;33m\u001b[0m\u001b[0m\n",
      "\u001b[1;31mAttributeError\u001b[0m: module 'seaborn' has no attribute 'displot'"
     ]
    },
    {
     "data": {
      "text/plain": [
       "<Figure size 720x360 with 0 Axes>"
      ]
     },
     "metadata": {},
     "output_type": "display_data"
    }
   ],
   "source": [
    "\n",
    "plt.figure(figsize=(10,5))\n",
    "sns.displot(x='age', hue='sex', data=df, alpha=0.6)\n",
    "plt.title(\"Gender\")\n",
    "plt.show()"
   ]
  },
  {
   "cell_type": "code",
   "execution_count": null,
   "metadata": {
    "execution": {
     "iopub.execute_input": "2021-07-07T07:20:41.914832Z",
     "iopub.status.busy": "2021-07-07T07:20:41.914391Z",
     "iopub.status.idle": "2021-07-07T07:20:42.373276Z",
     "shell.execute_reply": "2021-07-07T07:20:42.372313Z",
     "shell.execute_reply.started": "2021-07-07T07:20:41.914787Z"
    }
   },
   "outputs": [],
   "source": [
    "# plot age with heart attack\n",
    "\n",
    "plt.figure(figsize=(10,5))\n",
    "sns.displot(x='age', hue='output', data=df, alpha=0.6)\n",
    "plt.title(\"Heart Attack Analysis with Age\")\n",
    "plt.show()"
   ]
  },
  {
   "cell_type": "code",
   "execution_count": null,
   "metadata": {
    "execution": {
     "iopub.execute_input": "2021-07-07T07:20:42.374837Z",
     "iopub.status.busy": "2021-07-07T07:20:42.374506Z",
     "iopub.status.idle": "2021-07-07T07:20:42.912725Z",
     "shell.execute_reply": "2021-07-07T07:20:42.911691Z",
     "shell.execute_reply.started": "2021-07-07T07:20:42.374806Z"
    }
   },
   "outputs": [],
   "source": [
    "# which age group people has more chest pain\n",
    "\n",
    "plt.figure(figsize=(10,5))\n",
    "sns.displot(x='age',hue='cp',data=df,alpha=0.6)\n",
    "plt.title(\"Chest Pain With Respect to Age\")\n",
    "plt.show()"
   ]
  },
  {
   "cell_type": "code",
   "execution_count": null,
   "metadata": {
    "execution": {
     "iopub.execute_input": "2021-07-07T07:20:42.914314Z",
     "iopub.status.busy": "2021-07-07T07:20:42.914017Z",
     "iopub.status.idle": "2021-07-07T07:20:43.168132Z",
     "shell.execute_reply": "2021-07-07T07:20:43.167307Z",
     "shell.execute_reply.started": "2021-07-07T07:20:42.914285Z"
    }
   },
   "outputs": [],
   "source": [
    "# Cholestrol\n",
    "with plt.xkcd():\n",
    "    plt.figure(figsize=(10,5))\n",
    "    sns.kdeplot(data=df['chol'],shade=True,color='red')\n",
    "    plt.xlabel(\"Cholestrol\")\n",
    "    plt.title(\"Cholestrol\")\n"
   ]
  },
  {
   "cell_type": "code",
   "execution_count": null,
   "metadata": {
    "execution": {
     "iopub.execute_input": "2021-07-07T07:20:43.169437Z",
     "iopub.status.busy": "2021-07-07T07:20:43.169166Z",
     "iopub.status.idle": "2021-07-07T07:20:43.515949Z",
     "shell.execute_reply": "2021-07-07T07:20:43.514655Z",
     "shell.execute_reply.started": "2021-07-07T07:20:43.16941Z"
    }
   },
   "outputs": [],
   "source": [
    "\n",
    "plt.figure(figsize=(10,5))\n",
    "sns.scatterplot( df['age'],df['chol'], hue=df['output'])\n",
    "plt.xlabel(\"Age\",)\n",
    "plt.ylabel(\"Cholestrol\")\n",
    "plt.title(\"Cholestrol Level Regarding Age\")\n",
    "plt.axhline(df['chol'].mean(), linestyle='--', color='black')\n",
    "plt.grid(True)\n",
    "plt.style.use(\"ggplot\")"
   ]
  },
  {
   "cell_type": "code",
   "execution_count": null,
   "metadata": {
    "execution": {
     "iopub.execute_input": "2021-07-07T07:20:43.517355Z",
     "iopub.status.busy": "2021-07-07T07:20:43.517072Z",
     "iopub.status.idle": "2021-07-07T07:20:43.843808Z",
     "shell.execute_reply": "2021-07-07T07:20:43.842501Z",
     "shell.execute_reply.started": "2021-07-07T07:20:43.517328Z"
    }
   },
   "outputs": [],
   "source": [
    "plt.figure(figsize=(10,5))\n",
    "sns.scatterplot( df['age'],df['trtbps'], hue=df['output'])\n",
    "plt.xlabel(\"Age\",)\n",
    "plt.ylabel(\"BloodPressure\")\n",
    "plt.title(\"BloodPressure\")\n",
    "plt.axhline(df['trtbps'].mean(), linestyle='--', color='red')\n",
    "plt.grid(True)\n",
    "plt.style.use(\"ggplot\")\n"
   ]
  },
  {
   "cell_type": "code",
   "execution_count": null,
   "metadata": {
    "execution": {
     "iopub.execute_input": "2021-07-07T07:20:43.846186Z",
     "iopub.status.busy": "2021-07-07T07:20:43.845616Z",
     "iopub.status.idle": "2021-07-07T07:20:44.470115Z",
     "shell.execute_reply": "2021-07-07T07:20:44.469057Z",
     "shell.execute_reply.started": "2021-07-07T07:20:43.846108Z"
    }
   },
   "outputs": [],
   "source": [
    "plt.figure(figsize=(10,5))\n",
    "sns.displot(x='chol',hue='fbs',data=df,alpha=0.6)\n",
    "plt.title(\"Cholestrol with Fasting Blood Sugar\")"
   ]
  },
  {
   "cell_type": "code",
   "execution_count": null,
   "metadata": {
    "execution": {
     "iopub.execute_input": "2021-07-07T07:20:44.472124Z",
     "iopub.status.busy": "2021-07-07T07:20:44.471764Z",
     "iopub.status.idle": "2021-07-07T07:20:44.796683Z",
     "shell.execute_reply": "2021-07-07T07:20:44.79566Z",
     "shell.execute_reply.started": "2021-07-07T07:20:44.472092Z"
    }
   },
   "outputs": [],
   "source": [
    "plt.figure(figsize=(10,5))\n",
    "sns.scatterplot(df['age'],df['thalachh'],hue=df['output'])\n",
    "plt.title(\"Maximum Heart Rate\")\n",
    "plt.axhline(df['thalachh'].mean(), linestyle='--', color='green')"
   ]
  },
  {
   "cell_type": "code",
   "execution_count": null,
   "metadata": {
    "execution": {
     "iopub.execute_input": "2021-07-07T07:20:44.798132Z",
     "iopub.status.busy": "2021-07-07T07:20:44.79786Z",
     "iopub.status.idle": "2021-07-07T07:20:45.127253Z",
     "shell.execute_reply": "2021-07-07T07:20:45.12623Z",
     "shell.execute_reply.started": "2021-07-07T07:20:44.798105Z"
    }
   },
   "outputs": [],
   "source": [
    "# Histogram\n",
    "sns.distplot(a=df['chol'], label='Cholestrol', kde=False)\n",
    "sns.distplot(a=df['thalachh'], label='Heart Rate', kde=False)\n",
    "sns.distplot(a=df['trtbps'], label='Blood Pressure', kde=False)\n",
    "\n",
    "plt.legend()\n",
    "plt.xlabel(\"Level\")\n",
    "plt.title(\"Histogram \")"
   ]
  },
  {
   "cell_type": "code",
   "execution_count": null,
   "metadata": {
    "execution": {
     "iopub.execute_input": "2021-07-07T07:20:45.129076Z",
     "iopub.status.busy": "2021-07-07T07:20:45.12876Z",
     "iopub.status.idle": "2021-07-07T07:20:45.369133Z",
     "shell.execute_reply": "2021-07-07T07:20:45.368223Z",
     "shell.execute_reply.started": "2021-07-07T07:20:45.129035Z"
    }
   },
   "outputs": [],
   "source": [
    "# KDE plots\n",
    "\n",
    "sns.kdeplot(data=df['chol'], label='Cholestrol', shade=True)\n",
    "sns.kdeplot(data=df['thalachh'], label='Heart Rate', shade=True)\n",
    "sns.kdeplot(data=df['trtbps'], label='Blood Pressure', shade=True)\n",
    "plt.title(\"Distribution Plot\")\n",
    "plt.xlabel(\"Level\")\n",
    "\n",
    "plt.legend()"
   ]
  },
  {
   "cell_type": "code",
   "execution_count": null,
   "metadata": {
    "execution": {
     "iopub.execute_input": "2021-07-07T07:20:45.370844Z",
     "iopub.status.busy": "2021-07-07T07:20:45.370554Z",
     "iopub.status.idle": "2021-07-07T07:20:46.127056Z",
     "shell.execute_reply": "2021-07-07T07:20:46.125927Z",
     "shell.execute_reply.started": "2021-07-07T07:20:45.370814Z"
    }
   },
   "outputs": [],
   "source": [
    "sns.lineplot(data=df)\n",
    "plt.xlabel(\"Count\")\n",
    "plt.title(\"Total Column Plot\")"
   ]
  },
  {
   "cell_type": "code",
   "execution_count": null,
   "metadata": {
    "execution": {
     "iopub.execute_input": "2021-07-07T07:20:46.129083Z",
     "iopub.status.busy": "2021-07-07T07:20:46.128683Z",
     "iopub.status.idle": "2021-07-07T07:21:38.417588Z",
     "shell.execute_reply": "2021-07-07T07:21:38.416536Z",
     "shell.execute_reply.started": "2021-07-07T07:20:46.129037Z"
    }
   },
   "outputs": [],
   "source": [
    "sns.pairplot(data=df)"
   ]
  },
  {
   "cell_type": "code",
   "execution_count": null,
   "metadata": {
    "execution": {
     "iopub.execute_input": "2021-07-07T07:21:38.419322Z",
     "iopub.status.busy": "2021-07-07T07:21:38.419004Z",
     "iopub.status.idle": "2021-07-07T07:21:39.643201Z",
     "shell.execute_reply": "2021-07-07T07:21:39.642414Z",
     "shell.execute_reply.started": "2021-07-07T07:21:38.419293Z"
    }
   },
   "outputs": [],
   "source": [
    "## Correlation\n",
    "plt.figure(figsize=(20,10))\n",
    "sns.heatmap(df.corr(), annot=True)\n",
    "plt.title(\"Correlation\")"
   ]
  },
  {
   "cell_type": "code",
   "execution_count": null,
   "metadata": {
    "execution": {
     "iopub.execute_input": "2021-07-07T07:21:39.645141Z",
     "iopub.status.busy": "2021-07-07T07:21:39.644661Z",
     "iopub.status.idle": "2021-07-07T07:21:39.667271Z",
     "shell.execute_reply": "2021-07-07T07:21:39.666245Z",
     "shell.execute_reply.started": "2021-07-07T07:21:39.64511Z"
    }
   },
   "outputs": [],
   "source": [
    "# our dataset is imbalanced, balance it using SMOTE\n",
    "from imblearn.over_sampling import SMOTE\n",
    "from collections import Counter\n",
    "\n",
    "# split the dataset\n",
    "X = df.drop(\"output\", axis=1)\n",
    "y = df['output']\n",
    "\n",
    "# Split into training and testing\n",
    "X_train, X_test, y_train, y_test = train_test_split(X,y, test_size=0.2, random_state=42)\n",
    "\n",
    "print(\"----Imbalanced Dataset----\")\n",
    "counter = Counter(y)\n",
    "print(counter)\n",
    "\n",
    "# transform the dataset\n",
    "over = SMOTE()\n",
    "X, y = over.fit_resample(X, y)\n",
    "\n",
    "print(\"---Balanced Dataset----\")\n",
    "counter = Counter(y)\n",
    "print(counter)"
   ]
  },
  {
   "cell_type": "markdown",
   "metadata": {},
   "source": [
    "## Modelling"
   ]
  },
  {
   "cell_type": "code",
   "execution_count": null,
   "metadata": {
    "execution": {
     "iopub.execute_input": "2021-07-07T07:21:39.671043Z",
     "iopub.status.busy": "2021-07-07T07:21:39.670727Z",
     "iopub.status.idle": "2021-07-07T07:21:40.93819Z",
     "shell.execute_reply": "2021-07-07T07:21:40.937308Z",
     "shell.execute_reply.started": "2021-07-07T07:21:39.671013Z"
    }
   },
   "outputs": [],
   "source": [
    "## RandomForestClassifer\n",
    "np.random.seed(42)\n",
    "model1 = RandomForestClassifier()\n",
    "model1.fit(X_train, y_train)\n",
    "y_preds1 = model1.predict(X_test)\n",
    "cv = cross_val_score(model1,X,y, cv=5, scoring='accuracy')\n",
    "score = np.mean(cv)\n",
    "score"
   ]
  },
  {
   "cell_type": "code",
   "execution_count": null,
   "metadata": {
    "execution": {
     "iopub.execute_input": "2021-07-07T07:21:40.940913Z",
     "iopub.status.busy": "2021-07-07T07:21:40.94023Z",
     "iopub.status.idle": "2021-07-07T07:21:41.568951Z",
     "shell.execute_reply": "2021-07-07T07:21:41.567764Z",
     "shell.execute_reply.started": "2021-07-07T07:21:40.940869Z"
    }
   },
   "outputs": [],
   "source": [
    "# GradientBoosting Classifier\n",
    "np.random.seed(42)\n",
    "model2 = GradientBoostingClassifier()\n",
    "model2.fit(X_train, y_train)\n",
    "y_preds2 = model2.predict(X_test)\n",
    "cv = cross_val_score(model2,X,y, cv=5, scoring='accuracy')\n",
    "score = np.mean(cv)\n",
    "score"
   ]
  },
  {
   "cell_type": "code",
   "execution_count": null,
   "metadata": {
    "execution": {
     "iopub.execute_input": "2021-07-07T07:21:41.570997Z",
     "iopub.status.busy": "2021-07-07T07:21:41.570558Z",
     "iopub.status.idle": "2021-07-07T07:21:41.619917Z",
     "shell.execute_reply": "2021-07-07T07:21:41.618868Z",
     "shell.execute_reply.started": "2021-07-07T07:21:41.570953Z"
    }
   },
   "outputs": [],
   "source": [
    "# DecisionTreeClassifier\n",
    "np.random.seed(42)\n",
    "model3 = DecisionTreeClassifier()\n",
    "model3.fit(X_train, y_train)\n",
    "y_preds3 = model3.predict(X_test)\n",
    "cv = cross_val_score(model3,X,y, cv=5, scoring='accuracy')\n",
    "score = np.mean(cv)\n",
    "score"
   ]
  },
  {
   "cell_type": "code",
   "execution_count": null,
   "metadata": {
    "execution": {
     "iopub.execute_input": "2021-07-07T07:21:41.621947Z",
     "iopub.status.busy": "2021-07-07T07:21:41.621531Z",
     "iopub.status.idle": "2021-07-07T07:21:41.695344Z",
     "shell.execute_reply": "2021-07-07T07:21:41.694328Z",
     "shell.execute_reply.started": "2021-07-07T07:21:41.621904Z"
    }
   },
   "outputs": [],
   "source": [
    "#KNN\n",
    "np.random.seed(42)\n",
    "model4 = KNeighborsClassifier()\n",
    "model4.fit(X_train, y_train)\n",
    "y_preds4 = model4.predict(X_test)\n",
    "cv = cross_val_score(model4,X,y, cv=5, scoring='accuracy')\n",
    "score = np.mean(cv)\n",
    "score"
   ]
  },
  {
   "cell_type": "code",
   "execution_count": null,
   "metadata": {
    "execution": {
     "iopub.execute_input": "2021-07-07T07:21:41.69703Z",
     "iopub.status.busy": "2021-07-07T07:21:41.69671Z",
     "iopub.status.idle": "2021-07-07T07:21:41.901238Z",
     "shell.execute_reply": "2021-07-07T07:21:41.90021Z",
     "shell.execute_reply.started": "2021-07-07T07:21:41.696992Z"
    }
   },
   "outputs": [],
   "source": [
    "#LogisticRegression\n",
    "np.random.seed(42)\n",
    "model5 = LogisticRegression()\n",
    "model5.fit(X_train, y_train)\n",
    "y_preds5 = model5.predict(X_test)\n",
    "cv = cross_val_score(model5,X,y, cv=5, scoring='accuracy')\n",
    "score = np.mean(cv)\n",
    "score"
   ]
  },
  {
   "cell_type": "code",
   "execution_count": null,
   "metadata": {
    "execution": {
     "iopub.execute_input": "2021-07-07T07:21:41.902541Z",
     "iopub.status.busy": "2021-07-07T07:21:41.902237Z",
     "iopub.status.idle": "2021-07-07T07:21:41.949528Z",
     "shell.execute_reply": "2021-07-07T07:21:41.948572Z",
     "shell.execute_reply.started": "2021-07-07T07:21:41.902496Z"
    }
   },
   "outputs": [],
   "source": [
    "# GaussianNB\n",
    "np.random.seed(42)\n",
    "model6 = GaussianNB()\n",
    "model6.fit(X_train, y_train)\n",
    "y_preds6 = model6.predict(X_test)\n",
    "cv = cross_val_score(model6,X,y, cv=5, scoring='accuracy')\n",
    "score = np.mean(cv)\n",
    "score"
   ]
  },
  {
   "cell_type": "code",
   "execution_count": null,
   "metadata": {
    "execution": {
     "iopub.execute_input": "2021-07-07T07:21:41.951184Z",
     "iopub.status.busy": "2021-07-07T07:21:41.95086Z",
     "iopub.status.idle": "2021-07-07T07:21:42.006152Z",
     "shell.execute_reply": "2021-07-07T07:21:42.005208Z",
     "shell.execute_reply.started": "2021-07-07T07:21:41.951155Z"
    }
   },
   "outputs": [],
   "source": [
    "# SGD\n",
    "np.random.seed(42)\n",
    "model7 = SGDClassifier()\n",
    "model7.fit(X_train, y_train)\n",
    "y_preds7 = model7.predict(X_test)\n",
    "cv = cross_val_score(model7,X,y, cv=5, scoring='accuracy')\n",
    "score = np.mean(cv)\n",
    "score"
   ]
  },
  {
   "cell_type": "code",
   "execution_count": null,
   "metadata": {
    "execution": {
     "iopub.execute_input": "2021-07-07T07:21:42.007676Z",
     "iopub.status.busy": "2021-07-07T07:21:42.007335Z",
     "iopub.status.idle": "2021-07-07T07:21:47.594497Z",
     "shell.execute_reply": "2021-07-07T07:21:47.59344Z",
     "shell.execute_reply.started": "2021-07-07T07:21:42.007647Z"
    }
   },
   "outputs": [],
   "source": [
    "# CatBoost\n",
    "np.random.seed(42)\n",
    "model8 = CatBoostClassifier(verbose=0)\n",
    "model8.fit(X_train, y_train)\n",
    "y_preds8 = model8.predict(X_test)\n",
    "cv = cross_val_score(model8,X,y, cv=5, scoring='accuracy')\n",
    "score = np.mean(cv)\n",
    "score"
   ]
  },
  {
   "cell_type": "code",
   "execution_count": null,
   "metadata": {
    "execution": {
     "iopub.execute_input": "2021-07-07T07:21:47.596017Z",
     "iopub.status.busy": "2021-07-07T07:21:47.595724Z",
     "iopub.status.idle": "2021-07-07T07:21:47.961374Z",
     "shell.execute_reply": "2021-07-07T07:21:47.96038Z",
     "shell.execute_reply.started": "2021-07-07T07:21:47.595989Z"
    }
   },
   "outputs": [],
   "source": [
    "# XGb\n",
    "np.random.seed(42)\n",
    "model9 = XGBClassifier()\n",
    "model9.fit(X_train, y_train)\n",
    "y_pred9 = model9.predict(X_test)\n",
    "cv = cross_val_score(model9,X,y, cv=5, scoring='accuracy')\n",
    "score = np.mean(cv)\n",
    "score"
   ]
  },
  {
   "cell_type": "code",
   "execution_count": null,
   "metadata": {
    "execution": {
     "iopub.execute_input": "2021-07-07T07:21:47.965395Z",
     "iopub.status.busy": "2021-07-07T07:21:47.965039Z",
     "iopub.status.idle": "2021-07-07T07:21:48.06343Z",
     "shell.execute_reply": "2021-07-07T07:21:48.062665Z",
     "shell.execute_reply.started": "2021-07-07T07:21:47.965363Z"
    }
   },
   "outputs": [],
   "source": [
    "# LGBM\n",
    "np.random.seed(42)\n",
    "model10 = LGBMClassifier()\n",
    "model10.fit(X_train, y_train)\n",
    "y_preds10 = model10.predict(X_test)\n",
    "cv = cross_val_score(model4,X,y, cv=5, scoring='accuracy')\n",
    "score = np.mean(cv)\n",
    "score"
   ]
  },
  {
   "cell_type": "markdown",
   "metadata": {},
   "source": [
    "## Evaluation Metrics"
   ]
  },
  {
   "cell_type": "code",
   "execution_count": null,
   "metadata": {
    "execution": {
     "iopub.execute_input": "2021-07-07T07:21:48.080129Z",
     "iopub.status.busy": "2021-07-07T07:21:48.079721Z",
     "iopub.status.idle": "2021-07-07T07:21:48.373364Z",
     "shell.execute_reply": "2021-07-07T07:21:48.372304Z",
     "shell.execute_reply.started": "2021-07-07T07:21:48.080096Z"
    }
   },
   "outputs": [],
   "source": [
    "# metrics with best performed model\n",
    "print(f\"Precision score: {precision_score(y_test, y_preds5)}\")\n",
    "print(f\"Recall Score : { recall_score(y_test, y_preds5)}\")\n",
    "print(f\"F1 Score : {f1_score(y_test, y_preds5)}\")\n",
    "print()\n",
    "print(\"-------------Classification Report_________\")\n",
    "print(classification_report(y_test, y_preds5))\n",
    "print()\n",
    "sns.heatmap(confusion_matrix(y_test, y_preds5), annot=True)\n",
    "plt.title(\"Confusion Matrix\")\n",
    "plt.xlabel(\"Predicted Label\")\n",
    "plt.ylabel(\"True Label\")"
   ]
  },
  {
   "cell_type": "markdown",
   "metadata": {},
   "source": [
    "## Hyperparameter Tuning"
   ]
  },
  {
   "cell_type": "code",
   "execution_count": null,
   "metadata": {
    "execution": {
     "iopub.execute_input": "2021-07-07T07:23:42.934139Z",
     "iopub.status.busy": "2021-07-07T07:23:42.933691Z",
     "iopub.status.idle": "2021-07-07T07:23:43.597991Z",
     "shell.execute_reply": "2021-07-07T07:23:43.596868Z",
     "shell.execute_reply.started": "2021-07-07T07:23:42.934104Z"
    }
   },
   "outputs": [],
   "source": [
    "grid = {\"penalty\": ['l2' ,'elasticnet'],\n",
    "       \"C\" : [0.001,0.01,0.1,1.0],\n",
    "       'solver':['liblinear', 'saga'],\n",
    "       'multi_class':['ovr','multinomial']}\n",
    "\n",
    "randomized = RandomizedSearchCV(estimator=LogisticRegression(),\n",
    "                               param_distributions=grid,\n",
    "                               n_iter=20,\n",
    "                               cv=5,\n",
    "                               verbose=1)\n",
    "randomized.fit(X_train, y_train)"
   ]
  },
  {
   "cell_type": "code",
   "execution_count": null,
   "metadata": {
    "execution": {
     "iopub.execute_input": "2021-07-07T07:23:47.057922Z",
     "iopub.status.busy": "2021-07-07T07:23:47.057466Z",
     "iopub.status.idle": "2021-07-07T07:23:47.065084Z",
     "shell.execute_reply": "2021-07-07T07:23:47.063699Z",
     "shell.execute_reply.started": "2021-07-07T07:23:47.057884Z"
    }
   },
   "outputs": [],
   "source": [
    "randomized.best_params_"
   ]
  },
  {
   "cell_type": "code",
   "execution_count": null,
   "metadata": {
    "execution": {
     "iopub.execute_input": "2021-07-07T07:23:53.928685Z",
     "iopub.status.busy": "2021-07-07T07:23:53.928305Z",
     "iopub.status.idle": "2021-07-07T07:23:53.944085Z",
     "shell.execute_reply": "2021-07-07T07:23:53.942854Z",
     "shell.execute_reply.started": "2021-07-07T07:23:53.928653Z"
    }
   },
   "outputs": [],
   "source": [
    "model = LogisticRegression(penalty='l2',\n",
    "                          C=1.0,\n",
    "                          solver='liblinear',\n",
    "                          multi_class='ovr')\n",
    "model.fit(X_train, y_train)\n",
    "model.score(X_test,y_test)"
   ]
  },
  {
   "cell_type": "code",
   "execution_count": null,
   "metadata": {
    "execution": {
     "iopub.execute_input": "2021-07-07T07:23:57.812787Z",
     "iopub.status.busy": "2021-07-07T07:23:57.812375Z",
     "iopub.status.idle": "2021-07-07T07:23:57.821857Z",
     "shell.execute_reply": "2021-07-07T07:23:57.820868Z",
     "shell.execute_reply.started": "2021-07-07T07:23:57.812754Z"
    }
   },
   "outputs": [],
   "source": [
    "# Make predictions\n",
    "model.predict(X_test)"
   ]
  },
  {
   "cell_type": "code",
   "execution_count": null,
   "metadata": {},
   "outputs": [],
   "source": []
  }
 ],
 "metadata": {
  "kernelspec": {
   "display_name": "Python 3",
   "language": "python",
   "name": "python3"
  },
  "language_info": {
   "codemirror_mode": {
    "name": "ipython",
    "version": 3
   },
   "file_extension": ".py",
   "mimetype": "text/x-python",
   "name": "python",
   "nbconvert_exporter": "python",
   "pygments_lexer": "ipython3",
   "version": "3.8.3"
  }
 },
 "nbformat": 4,
 "nbformat_minor": 4
}
